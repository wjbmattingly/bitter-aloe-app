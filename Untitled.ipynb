{
 "cells": [
  {
   "cell_type": "code",
   "execution_count": 1,
   "id": "prompt-struggle",
   "metadata": {},
   "outputs": [],
   "source": [
    "import networkx as nx\n",
    "import pandas as pd\n",
    "import json\n",
    "import graphistry"
   ]
  },
  {
   "cell_type": "code",
   "execution_count": 2,
   "id": "continuous-scholar",
   "metadata": {},
   "outputs": [],
   "source": [
    "def load_data(file):\n",
    "    with open (file, \"r\", encoding=\"utf-8\") as f:\n",
    "        data = json.load(f)\n",
    "    return (data)\n",
    "\n",
    "def write_data(file, data):\n",
    "    with open (file, \"w\", encoding=\"utf-8\") as f:\n",
    "        json.dump(data, f, indent=4)"
   ]
  },
  {
   "cell_type": "code",
   "execution_count": 3,
   "id": "intermediate-silence",
   "metadata": {},
   "outputs": [],
   "source": [
    "paras = load_data(\"data/paraphrases-10.json\")\n",
    "names = load_data(\"data/vol7.json\")[\"names\"]"
   ]
  },
  {
   "cell_type": "code",
   "execution_count": 6,
   "id": "interested-group",
   "metadata": {},
   "outputs": [
    {
     "data": {
      "text/html": [
       "<div>\n",
       "<style scoped>\n",
       "    .dataframe tbody tr th:only-of-type {\n",
       "        vertical-align: middle;\n",
       "    }\n",
       "\n",
       "    .dataframe tbody tr th {\n",
       "        vertical-align: top;\n",
       "    }\n",
       "\n",
       "    .dataframe thead th {\n",
       "        text-align: right;\n",
       "    }\n",
       "</style>\n",
       "<table border=\"1\" class=\"dataframe\">\n",
       "  <thead>\n",
       "    <tr style=\"text-align: right;\">\n",
       "      <th></th>\n",
       "      <th>name1</th>\n",
       "      <th>name2</th>\n",
       "    </tr>\n",
       "  </thead>\n",
       "  <tbody>\n",
       "    <tr>\n",
       "      <th>0</th>\n",
       "      <td>KADISE, Dimakatso Kleinbooi</td>\n",
       "      <td>MAOKAWE, Mariah Mamoeng</td>\n",
       "    </tr>\n",
       "    <tr>\n",
       "      <th>1</th>\n",
       "      <td>COETZEE, Natalie</td>\n",
       "      <td>VERHEEM, Johannes Jacobus</td>\n",
       "    </tr>\n",
       "    <tr>\n",
       "      <th>2</th>\n",
       "      <td>DEETLEFS, JE</td>\n",
       "      <td>FOURIE, RC</td>\n",
       "    </tr>\n",
       "    <tr>\n",
       "      <th>3</th>\n",
       "      <td>KADISE, Dimakatso Kleinbooi</td>\n",
       "      <td>MOSHWEUNYANE, Maje Joseph</td>\n",
       "    </tr>\n",
       "    <tr>\n",
       "      <th>4</th>\n",
       "      <td>LUTHULI, Thokozani</td>\n",
       "      <td>MTHEMBU, Balungile Khonzani</td>\n",
       "    </tr>\n",
       "    <tr>\n",
       "      <th>...</th>\n",
       "      <td>...</td>\n",
       "      <td>...</td>\n",
       "    </tr>\n",
       "    <tr>\n",
       "      <th>172417</th>\n",
       "      <td>BIZZELL, Margeret Josephine</td>\n",
       "      <td>RADEBE, Nontsokolo Lilly</td>\n",
       "    </tr>\n",
       "    <tr>\n",
       "      <th>172418</th>\n",
       "      <td>BIZZELL, Margeret Josephine</td>\n",
       "      <td>NDWALANE, Nkomazana</td>\n",
       "    </tr>\n",
       "    <tr>\n",
       "      <th>172419</th>\n",
       "      <td>BIZZELL, Margeret Josephine</td>\n",
       "      <td>MNIKATHI, Dumazile Gladys</td>\n",
       "    </tr>\n",
       "    <tr>\n",
       "      <th>172420</th>\n",
       "      <td>BIZZELL, Margeret Josephine</td>\n",
       "      <td>ZONDI, Busisiwe Gladys</td>\n",
       "    </tr>\n",
       "    <tr>\n",
       "      <th>172421</th>\n",
       "      <td>BIZZELL, Margeret Josephine</td>\n",
       "      <td>MORUDI, Mittah</td>\n",
       "    </tr>\n",
       "  </tbody>\n",
       "</table>\n",
       "<p>172422 rows × 2 columns</p>\n",
       "</div>"
      ],
      "text/plain": [
       "                              name1                        name2\n",
       "0       KADISE, Dimakatso Kleinbooi      MAOKAWE, Mariah Mamoeng\n",
       "1                  COETZEE, Natalie    VERHEEM, Johannes Jacobus\n",
       "2                      DEETLEFS, JE                   FOURIE, RC\n",
       "3       KADISE, Dimakatso Kleinbooi    MOSHWEUNYANE, Maje Joseph\n",
       "4                LUTHULI, Thokozani  MTHEMBU, Balungile Khonzani\n",
       "...                             ...                          ...\n",
       "172417  BIZZELL, Margeret Josephine     RADEBE, Nontsokolo Lilly\n",
       "172418  BIZZELL, Margeret Josephine          NDWALANE, Nkomazana\n",
       "172419  BIZZELL, Margeret Josephine    MNIKATHI, Dumazile Gladys\n",
       "172420  BIZZELL, Margeret Josephine       ZONDI, Busisiwe Gladys\n",
       "172421  BIZZELL, Margeret Josephine               MORUDI, Mittah\n",
       "\n",
       "[172422 rows x 2 columns]"
      ]
     },
     "execution_count": 6,
     "metadata": {},
     "output_type": "execute_result"
    }
   ],
   "source": [
    "all_edges = []\n",
    "for para in paras:\n",
    "    score, i, j = para\n",
    "    all_edges.append((names[i], names[j]))\n",
    "\n",
    "df = pd.DataFrame(all_edges, columns=[\"name1\", \"name2\"])\n",
    "df.to_csv(\"data/edges-10.csv\")\n",
    "df"
   ]
  },
  {
   "cell_type": "code",
   "execution_count": 8,
   "id": "accepted-junior",
   "metadata": {},
   "outputs": [
    {
     "data": {
      "text/html": [
       "\n",
       "            <iframe id=\"62f7b979-6b15-4195-85e2-b276a50e6a4f\" src=\"https://hub.graphistry.com/graph/graph.html?dataset=69e4e350ed6e4c77901453e5bbac3330&type=arrow&viztoken=170f41f3-23c0-4020-bc22-80dae57144e4&usertag=946bb5c2-pygraphistry-0.17.2&splashAfter=1626459598&info=true\"\n",
       "                    allowfullscreen=\"true\" webkitallowfullscreen=\"true\" mozallowfullscreen=\"true\"\n",
       "                    oallowfullscreen=\"true\" msallowfullscreen=\"true\"\n",
       "                    style=\"width:100%; height:500px; border: 1px solid #DDD; overflow: hidden\">\n",
       "            </iframe>\n",
       "        \n",
       "            <script>\n",
       "                try {\n",
       "                  $(\"#62f7b979-6b15-4195-85e2-b276a50e6a4f\").bind('mousewheel', function(e) { e.preventDefault(); });\n",
       "                } catch (e) { console.error('exn catching scroll', e); }\n",
       "            </script>\n",
       "        "
      ],
      "text/plain": [
       "<IPython.core.display.HTML object>"
      ]
     },
     "execution_count": 8,
     "metadata": {},
     "output_type": "execute_result"
    }
   ],
   "source": [
    "graphistry.edges(pd.read_csv('data/edges-10.csv'), 'name1', 'name2').plot()"
   ]
  },
  {
   "cell_type": "code",
   "execution_count": 20,
   "id": "public-making",
   "metadata": {},
   "outputs": [],
   "source": [
    "from pyvis.network import Network\n",
    "import pandas as pd\n",
    "\n",
    "got_net = Network(height='1500px', width='100%', bgcolor='#222222', font_color='white')\n",
    "\n",
    "# set the physics layout of the network\n",
    "got_net.barnes_hut()\n",
    "got_data = pd.read_csv('data/edges-10.csv')\n",
    "\n",
    "sources = got_data['name1']\n",
    "targets = got_data['name2']\n",
    "# weights = got_data['Weight']\n",
    "\n",
    "edge_data = zip(sources[:10000], targets[:10000])\n",
    "\n",
    "for e in edge_data:\n",
    "    src = e[0]\n",
    "    dst = e[1]\n",
    "#     w = e[2]\n",
    "\n",
    "    got_net.add_node(src, src, title=src)\n",
    "    got_net.add_node(dst, dst, title=dst)\n",
    "    got_net.add_edge(src, dst)\n",
    "\n",
    "neighbor_map = got_net.get_adj_list()\n",
    "\n",
    "# add neighbor data to node hover data\n",
    "for node in got_net.nodes:\n",
    "    node['title'] += ' Neighbors:<br>' + '<br>'.join(neighbor_map[node['id']])\n",
    "    node['value'] = len(neighbor_map[node['id']])\n",
    "\n",
    "got_net.show('sample.html')"
   ]
  },
  {
   "cell_type": "code",
   "execution_count": null,
   "id": "verified-wrist",
   "metadata": {},
   "outputs": [],
   "source": []
  }
 ],
 "metadata": {
  "kernelspec": {
   "display_name": "Python 3",
   "language": "python",
   "name": "python3"
  },
  "language_info": {
   "codemirror_mode": {
    "name": "ipython",
    "version": 3
   },
   "file_extension": ".py",
   "mimetype": "text/x-python",
   "name": "python",
   "nbconvert_exporter": "python",
   "pygments_lexer": "ipython3",
   "version": "3.9.2"
  }
 },
 "nbformat": 4,
 "nbformat_minor": 5
}
