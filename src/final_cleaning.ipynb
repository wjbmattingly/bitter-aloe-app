{
 "cells": [
  {
   "cell_type": "code",
   "execution_count": 1,
   "id": "cd43ed3a-3cc9-493e-b924-3702f54b4d75",
   "metadata": {},
   "outputs": [],
   "source": [
    "import json\n",
    "import glob\n",
    "from collections import Counter"
   ]
  },
  {
   "cell_type": "code",
   "execution_count": 40,
   "id": "7136e207-1a61-486a-863c-6a00b83fd029",
   "metadata": {},
   "outputs": [
    {
     "name": "stdout",
     "output_type": "stream",
     "text": [
      "2460\n"
     ]
    }
   ],
   "source": [
    "files = glob.glob(f\"../data/data_saha_final/*/*/*.json\")\n",
    "print (len(files))"
   ]
  },
  {
   "cell_type": "code",
   "execution_count": 46,
   "id": "50d6a087-a2ca-4b4c-bd90-8ca3d5b2892d",
   "metadata": {},
   "outputs": [
    {
     "name": "stdout",
     "output_type": "stream",
     "text": [
      "5443\n"
     ]
    }
   ],
   "source": [
    "with open ('../data/fp_speakers.txt', 'r') as f:\n",
    "    fps = f.read().splitlines()\n",
    "def clean_speaker(speaker):\n",
    "    speaker = speaker.upper()\n",
    "    if ' BY ' in speaker:\n",
    "        speaker = speaker.split(\" BY \")[1].strip()\n",
    "    speaker = speaker.replace(\"WITNESS EXCUSED\", \"\")\n",
    "    speaker = speaker.replace(\"EXCUSED\", '')\n",
    "    speaker = speaker.replace(' HANDED IN AS EXHIBIT F', '')\n",
    "    speaker = speaker.replace('FURTHER CROSS-EXAMINATION', '')\n",
    "    speaker = speaker.replace('EXAMINATION BY', '')\n",
    "    speaker = speaker.replace('EXAMINATION', '')\n",
    "    speaker = speaker.replace('MISS ', 'MS ')\n",
    "    speaker = speaker.replace(\"RE-EXAMINATIONBY \", '')\n",
    "    speaker = speaker.replace('REVEREND', 'REV')\n",
    "    speaker = speaker.replace('REVD', 'REV')\n",
    "    speaker = speaker.replace(\"DOCTOR\", 'DR')\n",
    "    speaker = speaker.replace('ADVOCATE', 'ADV')\n",
    "    speaker = speaker.replace(\"COLONEL\", 'COL')\n",
    "    speaker = speaker.replace('GENERAL', 'GEN')\n",
    "    speaker = speaker.replace('MAJ-GENERAL', 'MAJ GEN')\n",
    "    speaker = speaker.replace('MAJOR', 'MAJ')\n",
    "    speaker = speaker.replace('PROFESSOR', 'PROF')\n",
    "    speaker = speaker.replace(\"PROFF \", 'PROF ')\n",
    "    while '  ' in speaker:\n",
    "        speaker = speaker.replace('  ', ' ')\n",
    "    speaker = speaker.strip()\n",
    "    \n",
    "    if speaker in fps:\n",
    "        speaker = '<UNKNOWN>'\n",
    "    if 'UNKNOWN' in speaker:\n",
    "        speaker = '<UNKNOWN>'\n",
    "    if len(speaker) < 2:\n",
    "        speaker = \"<UNKNOWN>\"\n",
    "    if speaker == \"\":\n",
    "        speaker = \"<UNKNOWN>\"\n",
    "    return speaker\n",
    "all_speakers = []    \n",
    "for i, filename in enumerate(files):\n",
    "    new_filename = filename.replace(\"data_saha_final\", \"data_saha\")\n",
    "    with open(filename, 'r') as f:\n",
    "        data = json.load(f)\n",
    "    for x, speaker in enumerate(data['header']['speakers']):\n",
    "        speaker = clean_speaker(speaker)\n",
    "        data['header']['speakers'][x] = speaker\n",
    "    for x, section in enumerate(data['testimony']):\n",
    "        speaker =  section[0]\n",
    "        try:\n",
    "            new = clean_speaker(speaker)\n",
    "        except:\n",
    "            AttributeError\n",
    "            new = \"UNKNOWN\"\n",
    "        data['testimony'][x][0] = new\n",
    "        if new not in all_speakers:\n",
    "            all_speakers.append(new)\n",
    "    with open (new_filename, 'w') as f:\n",
    "        json.dump(data, f, indent=4)\n",
    "all_speakers.sort()\n",
    "print (len(all_speakers))"
   ]
  },
  {
   "cell_type": "code",
   "execution_count": 47,
   "id": "021896de-e96c-4429-b2da-f16a28fa1c1b",
   "metadata": {},
   "outputs": [],
   "source": [
    "with open ('../data/all_speakers.txt', 'w') as f:\n",
    "    f.write('\\n'.join(all_speakers))"
   ]
  },
  {
   "cell_type": "code",
   "execution_count": 48,
   "id": "180ee3b2-e625-44ae-b300-4b85f0da76aa",
   "metadata": {},
   "outputs": [],
   "source": [
    "with open ('../data/all_speakers.json', 'w') as f:\n",
    "    json.dump(all_speakers, f, indent=4)"
   ]
  },
  {
   "cell_type": "code",
   "execution_count": null,
   "id": "ad1d9ec5-fefd-41ce-9e0b-41c3116a6da5",
   "metadata": {},
   "outputs": [],
   "source": []
  }
 ],
 "metadata": {
  "kernelspec": {
   "display_name": "Python 3 (ipykernel)",
   "language": "python",
   "name": "python3"
  },
  "language_info": {
   "codemirror_mode": {
    "name": "ipython",
    "version": 3
   },
   "file_extension": ".py",
   "mimetype": "text/x-python",
   "name": "python",
   "nbconvert_exporter": "python",
   "pygments_lexer": "ipython3",
   "version": "3.8.5"
  }
 },
 "nbformat": 4,
 "nbformat_minor": 5
}
