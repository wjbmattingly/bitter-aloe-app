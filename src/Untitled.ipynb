{
 "cells": [
  {
   "cell_type": "code",
   "execution_count": 1,
   "id": "13be8bc9-1ade-49a8-a44b-5f43e34aa374",
   "metadata": {},
   "outputs": [],
   "source": [
    "import json\n",
    "import glob"
   ]
  },
  {
   "cell_type": "code",
   "execution_count": 5,
   "id": "7a71e448-da31-46e9-bd78-253698d3de2d",
   "metadata": {},
   "outputs": [
    {
     "name": "stdout",
     "output_type": "stream",
     "text": [
      "2370\n"
     ]
    }
   ],
   "source": [
    "files = glob.glob(f\"../data/data_saha/*/*/*.json\")\n",
    "print (len(files))"
   ]
  },
  {
   "cell_type": "code",
   "execution_count": 14,
   "id": "f40c10e2-cf42-491b-83f9-51406e13d232",
   "metadata": {},
   "outputs": [],
   "source": [
    "speakers = {}\n",
    "for filename in files:\n",
    "    with open (filename, \"r\") as f:\n",
    "        data = json.load(f)\n",
    "    tmp = data[\"header\"][\"speakers\"]\n",
    "    for t in tmp:\n",
    "        if t in speakers.keys():\n",
    "            if filename not in speakers[t]:\n",
    "                speakers[t].append(filename)\n",
    "        else:\n",
    "            speakers[t] = [filename]\n",
    "# speakers = list(set(speakers))\n",
    "# speakers.sort()"
   ]
  },
  {
   "cell_type": "code",
   "execution_count": 15,
   "id": "d613ef19-b1e9-4c30-aaf6-ba54c74d3c8a",
   "metadata": {},
   "outputs": [
    {
     "data": {
      "text/plain": [
       "7650"
      ]
     },
     "execution_count": 15,
     "metadata": {},
     "output_type": "execute_result"
    }
   ],
   "source": [
    "len(speakers)"
   ]
  },
  {
   "cell_type": "code",
   "execution_count": 16,
   "id": "3dae11ac-03c7-46f9-abf2-8a778db9efcf",
   "metadata": {},
   "outputs": [],
   "source": [
    "with open (\"../data/all_speakers.json\", \"w\") as f:\n",
    "    json.dump(speakers, f, indent=4)"
   ]
  },
  {
   "cell_type": "code",
   "execution_count": null,
   "id": "cb5ed5a9-c3f1-48cc-ba23-7e80fe44e261",
   "metadata": {},
   "outputs": [],
   "source": []
  }
 ],
 "metadata": {
  "kernelspec": {
   "display_name": "Python 3 (ipykernel)",
   "language": "python",
   "name": "python3"
  },
  "language_info": {
   "codemirror_mode": {
    "name": "ipython",
    "version": 3
   },
   "file_extension": ".py",
   "mimetype": "text/x-python",
   "name": "python",
   "nbconvert_exporter": "python",
   "pygments_lexer": "ipython3",
   "version": "3.8.5"
  }
 },
 "nbformat": 4,
 "nbformat_minor": 5
}
