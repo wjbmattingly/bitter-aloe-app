{
 "cells": [
  {
   "cell_type": "code",
   "execution_count": 1,
   "id": "13be8bc9-1ade-49a8-a44b-5f43e34aa374",
   "metadata": {},
   "outputs": [],
   "source": [
    "import json\n",
    "import glob\n",
    "from top2vec import Top2Vec"
   ]
  },
  {
   "cell_type": "code",
   "execution_count": 2,
   "id": "7a71e448-da31-46e9-bd78-253698d3de2d",
   "metadata": {},
   "outputs": [
    {
     "name": "stdout",
     "output_type": "stream",
     "text": [
      "2370\n"
     ]
    }
   ],
   "source": [
    "files = glob.glob(f\"../data/data_saha/*/*/*.json\")\n",
    "print (len(files))"
   ]
  },
  {
   "cell_type": "code",
   "execution_count": 11,
   "id": "f40c10e2-cf42-491b-83f9-51406e13d232",
   "metadata": {},
   "outputs": [],
   "source": [
    "documents = []\n",
    "segments = {\"files\": [], \"segments\": []}\n",
    "for filename in files[:1]:\n",
    "    with open(filename, \"r\") as f:\n",
    "        data = json.load(f)\n",
    "    testimony = data[\"testimony\"]\n",
    "    segments[\"files\"].append(filename)\n",
    "    for i, segment in enumerate(testimony):\n",
    "        speaker, dialogue, gender = segment\n",
    "        segments[\"segments\"].append({i})\n",
    "        documents.append(dialogue)"
   ]
  },
  {
   "cell_type": "code",
   "execution_count": null,
   "id": "cb5ed5a9-c3f1-48cc-ba23-7e80fe44e261",
   "metadata": {},
   "outputs": [],
   "source": [
    "documents = pd.read_json(\"data/vol7.json\").descriptions.tolist()\n",
    "model = Top2Vec(documents, speed=\"deep-learn\")\n",
    "model.save(\"data/top2vec-model\")\n"
   ]
  }
 ],
 "metadata": {
  "kernelspec": {
   "display_name": "Python 3 (ipykernel)",
   "language": "python",
   "name": "python3"
  },
  "language_info": {
   "codemirror_mode": {
    "name": "ipython",
    "version": 3
   },
   "file_extension": ".py",
   "mimetype": "text/x-python",
   "name": "python",
   "nbconvert_exporter": "python",
   "pygments_lexer": "ipython3",
   "version": "3.8.5"
  }
 },
 "nbformat": 4,
 "nbformat_minor": 5
}
