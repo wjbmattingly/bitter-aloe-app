{
 "cells": [
  {
   "cell_type": "code",
   "execution_count": 1,
   "id": "97f581f2-19e3-4ecb-ada8-ae77de41ab45",
   "metadata": {},
   "outputs": [
    {
     "name": "stdout",
     "output_type": "stream",
     "text": [
      "5574\n"
     ]
    }
   ],
   "source": [
    "import json\n",
    "import glob\n",
    "\n",
    "files = glob.glob(f\"../data/data_saha/*/*/*.json\")\n",
    "speakers = []\n",
    "for filename in files:\n",
    "    with open (filename, \"r\") as f:\n",
    "        data = json.load(f)\n",
    "    tmp = data[\"header\"][\"speakers\"]\n",
    "    for t in tmp:\n",
    "        if \"(\" in t:\n",
    "            print (t)\n",
    "        speakers.append(t)\n",
    "speakers = list(set(speakers))\n",
    "speakers.sort()\n",
    "print (len(speakers))\n",
    "with open (\"../data/all_speakers.json\", \"w\") as f:\n",
    "    json.dump(speakers, f, indent=4)"
   ]
  },
  {
   "cell_type": "code",
   "execution_count": null,
   "id": "e1bb5fe6-7430-4e17-9ad4-da3a4ee084a9",
   "metadata": {},
   "outputs": [],
   "source": [
    "5757"
   ]
  }
 ],
 "metadata": {
  "kernelspec": {
   "display_name": "Python 3 (ipykernel)",
   "language": "python",
   "name": "python3"
  },
  "language_info": {
   "codemirror_mode": {
    "name": "ipython",
    "version": 3
   },
   "file_extension": ".py",
   "mimetype": "text/x-python",
   "name": "python",
   "nbconvert_exporter": "python",
   "pygments_lexer": "ipython3",
   "version": "3.8.5"
  }
 },
 "nbformat": 4,
 "nbformat_minor": 5
}
